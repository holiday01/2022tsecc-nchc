{
 "cells": [
  {
   "cell_type": "code",
   "execution_count": 17,
   "id": "celtic-resistance",
   "metadata": {},
   "outputs": [],
   "source": [
    "import matplotlib.pyplot as plt\n",
    "import numpy as np\n",
    "import pandas as pd\n",
    "import psycopg2\n",
    "from sklearn.metrics import confusion_matrix, ConfusionMatrixDisplay"
   ]
  },
  {
   "cell_type": "code",
   "execution_count": 18,
   "id": "explicit-proportion",
   "metadata": {},
   "outputs": [],
   "source": [
    "def search(sql):\n",
    "    import pandas as pd\n",
    "    import psycopg2\n",
    "    conn = psycopg2.connect(database=\"mimiciv\", user=\"twccntuworkshop\", \n",
    "                            password=\"ntuworkshop1210\", host=\"211.73.81.172\", \n",
    "                            port=\"5432\")\n",
    "    with conn.cursor() as cur:\n",
    "        cur.execute(sql)\n",
    "        name = [desc[0] for desc in cur.description]\n",
    "        df = pd.DataFrame(cur.fetchall(),columns=name)\n",
    "    return df"
   ]
  },
  {
   "cell_type": "code",
   "execution_count": 19,
   "id": "necessary-minority",
   "metadata": {},
   "outputs": [],
   "source": [
    "sql = \"\"\"\n",
    " SELECT \n",
    " so.stay_id,\n",
    " CASE WHEN MIN(so.pao2fio2ratio_vent) is null THEN 401 ELSE MIN(so.pao2fio2ratio_vent) END as pao2fio2ratio_vent,\n",
    " CASE WHEN MIN(so.pao2fio2ratio_novent) is null THEN 401 ELSE MIN(so.pao2fio2ratio_novent) END as pao2fio2ratio_novent,\n",
    " CASE WHEN MIN(so.platelet_min) is null THEN 151 ELSE MIN(so.platelet_min) END as platelet_min,\n",
    " CASE WHEN MAX(so.bilirubin_max) is null THEN 1.1 ELSE MAX(so.bilirubin_max) END as bilirubin_max,\n",
    " CASE WHEN MAX(so.rate_dopamine) is null THEN 4 ELSE MAX(so.rate_dopamine) END as rate_dopamine,\n",
    " CASE WHEN MAX(so.rate_epinephrine) is null THEN 4 ELSE MAX(so.rate_epinephrine) END as rate_epinephrine,\n",
    " CASE WHEN MAX(so.rate_norepinephrine) is null THEN 71 ELSE MAX(so.rate_norepinephrine) END as rate_norepinephrine,\n",
    " CASE WHEN MIN(so.gcs_min) is null THEN 15 ELSE MIN(so.gcs_min) END as gcs_min,\n",
    " CASE WHEN MAX(so.creatinine_max) is null THEN 1.1 ELSE MAX(so.creatinine_max) END as creatinine_max,\n",
    " CASE WHEN MAX(so.uo_24hr) is null THEN 201 ELSE MAX(so.uo_24hr) END as uo_24hr,\n",
    " MIN(se.sofa_score) as sofa_score\n",
    "  FROM mimiciv_derived.sofa so\n",
    "  JOIN mimiciv_derived.sepsis3 se\n",
    "  ON so.stay_id = se.stay_id\n",
    "  WHERE so.hr <24\n",
    "  GROUP BY so.stay_id\n",
    "\"\"\"\n",
    "\n",
    "sofa = search(sql)"
   ]
  },
  {
   "cell_type": "code",
   "execution_count": 20,
   "id": "chronic-simple",
   "metadata": {},
   "outputs": [
    {
     "data": {
      "text/html": [
       "<div>\n",
       "<style scoped>\n",
       "    .dataframe tbody tr th:only-of-type {\n",
       "        vertical-align: middle;\n",
       "    }\n",
       "\n",
       "    .dataframe tbody tr th {\n",
       "        vertical-align: top;\n",
       "    }\n",
       "\n",
       "    .dataframe thead th {\n",
       "        text-align: right;\n",
       "    }\n",
       "</style>\n",
       "<table border=\"1\" class=\"dataframe\">\n",
       "  <thead>\n",
       "    <tr style=\"text-align: right;\">\n",
       "      <th></th>\n",
       "      <th>stay_id</th>\n",
       "      <th>pao2fio2ratio_vent</th>\n",
       "      <th>pao2fio2ratio_novent</th>\n",
       "      <th>platelet_min</th>\n",
       "      <th>bilirubin_max</th>\n",
       "      <th>rate_dopamine</th>\n",
       "      <th>rate_epinephrine</th>\n",
       "      <th>rate_norepinephrine</th>\n",
       "      <th>gcs_min</th>\n",
       "      <th>creatinine_max</th>\n",
       "      <th>uo_24hr</th>\n",
       "      <th>sofa_score</th>\n",
       "    </tr>\n",
       "  </thead>\n",
       "  <tbody>\n",
       "    <tr>\n",
       "      <th>0</th>\n",
       "      <td>30000646</td>\n",
       "      <td>401.0</td>\n",
       "      <td>71.0</td>\n",
       "      <td>266.0</td>\n",
       "      <td>0.7</td>\n",
       "      <td>4.000000</td>\n",
       "      <td>4.0</td>\n",
       "      <td>71.000000</td>\n",
       "      <td>15.0</td>\n",
       "      <td>1.0</td>\n",
       "      <td>201.000000</td>\n",
       "      <td>3</td>\n",
       "    </tr>\n",
       "    <tr>\n",
       "      <th>1</th>\n",
       "      <td>30001446</td>\n",
       "      <td>401.0</td>\n",
       "      <td>401.0</td>\n",
       "      <td>36.0</td>\n",
       "      <td>6.4</td>\n",
       "      <td>5.004316</td>\n",
       "      <td>4.0</td>\n",
       "      <td>0.080021</td>\n",
       "      <td>15.0</td>\n",
       "      <td>2.7</td>\n",
       "      <td>1254.545455</td>\n",
       "      <td>8</td>\n",
       "    </tr>\n",
       "    <tr>\n",
       "      <th>2</th>\n",
       "      <td>30001555</td>\n",
       "      <td>401.0</td>\n",
       "      <td>401.0</td>\n",
       "      <td>35.0</td>\n",
       "      <td>19.6</td>\n",
       "      <td>4.000000</td>\n",
       "      <td>4.0</td>\n",
       "      <td>71.000000</td>\n",
       "      <td>13.0</td>\n",
       "      <td>1.1</td>\n",
       "      <td>2514.545455</td>\n",
       "      <td>8</td>\n",
       "    </tr>\n",
       "    <tr>\n",
       "      <th>3</th>\n",
       "      <td>30002415</td>\n",
       "      <td>401.0</td>\n",
       "      <td>240.0</td>\n",
       "      <td>124.0</td>\n",
       "      <td>1.1</td>\n",
       "      <td>4.000000</td>\n",
       "      <td>4.0</td>\n",
       "      <td>71.000000</td>\n",
       "      <td>15.0</td>\n",
       "      <td>0.8</td>\n",
       "      <td>201.000000</td>\n",
       "      <td>4</td>\n",
       "    </tr>\n",
       "    <tr>\n",
       "      <th>4</th>\n",
       "      <td>30002654</td>\n",
       "      <td>401.0</td>\n",
       "      <td>401.0</td>\n",
       "      <td>19.0</td>\n",
       "      <td>0.5</td>\n",
       "      <td>4.000000</td>\n",
       "      <td>4.0</td>\n",
       "      <td>0.250321</td>\n",
       "      <td>15.0</td>\n",
       "      <td>1.9</td>\n",
       "      <td>1456.155890</td>\n",
       "      <td>4</td>\n",
       "    </tr>\n",
       "  </tbody>\n",
       "</table>\n",
       "</div>"
      ],
      "text/plain": [
       "    stay_id  pao2fio2ratio_vent  pao2fio2ratio_novent  platelet_min  \\\n",
       "0  30000646               401.0                  71.0         266.0   \n",
       "1  30001446               401.0                 401.0          36.0   \n",
       "2  30001555               401.0                 401.0          35.0   \n",
       "3  30002415               401.0                 240.0         124.0   \n",
       "4  30002654               401.0                 401.0          19.0   \n",
       "\n",
       "   bilirubin_max  rate_dopamine  rate_epinephrine  rate_norepinephrine  \\\n",
       "0            0.7       4.000000               4.0            71.000000   \n",
       "1            6.4       5.004316               4.0             0.080021   \n",
       "2           19.6       4.000000               4.0            71.000000   \n",
       "3            1.1       4.000000               4.0            71.000000   \n",
       "4            0.5       4.000000               4.0             0.250321   \n",
       "\n",
       "   gcs_min  creatinine_max      uo_24hr  sofa_score  \n",
       "0     15.0             1.0   201.000000           3  \n",
       "1     15.0             2.7  1254.545455           8  \n",
       "2     13.0             1.1  2514.545455           8  \n",
       "3     15.0             0.8   201.000000           4  \n",
       "4     15.0             1.9  1456.155890           4  "
      ]
     },
     "execution_count": 20,
     "metadata": {},
     "output_type": "execute_result"
    }
   ],
   "source": [
    "sofa.head()"
   ]
  },
  {
   "cell_type": "code",
   "execution_count": 21,
   "id": "demographic-mechanism",
   "metadata": {},
   "outputs": [],
   "source": [
    "value = sofa.iloc[:,1:11]\n",
    "label = sofa.sofa_score"
   ]
  },
  {
   "cell_type": "code",
   "execution_count": 22,
   "id": "arranged-impact",
   "metadata": {},
   "outputs": [],
   "source": [
    "from sklearn.model_selection import train_test_split\n",
    "import xgboost as xgb\n",
    "X_train, y_train, X_label, y_label = train_test_split(value, label)\n",
    "\n",
    "dtrain = xgb.DMatrix(X_train, label=X_label)\n",
    "dtest = xgb.DMatrix(y_train, label=y_label)"
   ]
  },
  {
   "cell_type": "code",
   "execution_count": 23,
   "id": "velvet-demonstration",
   "metadata": {
    "tags": []
   },
   "outputs": [
    {
     "name": "stdout",
     "output_type": "stream",
     "text": [
      "[0]\tvalidation_0-logloss:0.68969\tvalidation_0-roc_auc_score:0.81119\n",
      "[1]\tvalidation_0-logloss:0.68630\tvalidation_0-roc_auc_score:0.81112\n",
      "[2]\tvalidation_0-logloss:0.68298\tvalidation_0-roc_auc_score:0.81100\n",
      "[3]\tvalidation_0-logloss:0.67972\tvalidation_0-roc_auc_score:0.81098\n",
      "[4]\tvalidation_0-logloss:0.67653\tvalidation_0-roc_auc_score:0.82365\n",
      "[5]\tvalidation_0-logloss:0.67340\tvalidation_0-roc_auc_score:0.82364\n",
      "[6]\tvalidation_0-logloss:0.67033\tvalidation_0-roc_auc_score:0.82479\n",
      "[7]\tvalidation_0-logloss:0.66730\tvalidation_0-roc_auc_score:0.82464\n",
      "[8]\tvalidation_0-logloss:0.66436\tvalidation_0-roc_auc_score:0.82480\n",
      "[9]\tvalidation_0-logloss:0.66144\tvalidation_0-roc_auc_score:0.82656\n",
      "[10]\tvalidation_0-logloss:0.65858\tvalidation_0-roc_auc_score:0.82707\n",
      "[11]\tvalidation_0-logloss:0.65577\tvalidation_0-roc_auc_score:0.82673\n",
      "[12]\tvalidation_0-logloss:0.65301\tvalidation_0-roc_auc_score:0.82696\n",
      "[13]\tvalidation_0-logloss:0.65030\tvalidation_0-roc_auc_score:0.82683\n",
      "[14]\tvalidation_0-logloss:0.64764\tvalidation_0-roc_auc_score:0.82661\n",
      "[15]\tvalidation_0-logloss:0.64502\tvalidation_0-roc_auc_score:0.82681\n",
      "[16]\tvalidation_0-logloss:0.64244\tvalidation_0-roc_auc_score:0.82699\n",
      "[17]\tvalidation_0-logloss:0.63990\tvalidation_0-roc_auc_score:0.82742\n",
      "[18]\tvalidation_0-logloss:0.63743\tvalidation_0-roc_auc_score:0.82726\n",
      "[19]\tvalidation_0-logloss:0.63500\tvalidation_0-roc_auc_score:0.82720\n",
      "[20]\tvalidation_0-logloss:0.63262\tvalidation_0-roc_auc_score:0.82745\n",
      "[21]\tvalidation_0-logloss:0.63026\tvalidation_0-roc_auc_score:0.82763\n",
      "[22]\tvalidation_0-logloss:0.62794\tvalidation_0-roc_auc_score:0.82751\n"
     ]
    },
    {
     "data": {
      "text/plain": [
       "<function matplotlib.pyplot.legend(*args, **kwargs)>"
      ]
     },
     "execution_count": 23,
     "metadata": {},
     "output_type": "execute_result"
    },
    {
     "data": {
      "image/png": "[encoded data removed]",
      "text/plain": [
       "<Figure size 432x288 with 1 Axes>"
      ]
     },
     "metadata": {
      "needs_background": "light"
     },
     "output_type": "display_data"
    }
   ],
   "source": [
    "value = sofa.iloc[:,1:11]\n",
    "label = sofa.sofa_score\n",
    "label = np.array(label)\n",
    "label[np.array(label) < 3] = 0\n",
    "label[np.array(label) > 2] = 1\n",
    "\n",
    "X_train, y_train, X_label, y_label = train_test_split(value, label)\n",
    "from xgboost import XGBClassifier\n",
    "from sklearn.metrics import mean_absolute_error, roc_auc_score\n",
    "bst = XGBClassifier(n_estimators=200, x_depth=3, learning_rate=0.01, objective='binary:logistic', eval_metric=roc_auc_score, verbosity = 0, early_stopping_rounds=20)\n",
    "bst.fit(X_train, X_label, eval_set=[(y_train, y_label)])\n",
    "import matplotlib.pyplot as plt\n",
    "acc = bst.evals_result_['validation_0']['roc_auc_score']\n",
    "plt.plot(range(len(acc)), acc, label=\"acc\")\n",
    "loss = bst.evals_result_['validation_0']['logloss']\n",
    "plt.plot(range(len(loss)),loss, label=\"label\")\n",
    "plt.legend"
   ]
  },
  {
   "cell_type": "code",
   "execution_count": 24,
   "id": "incoming-intelligence",
   "metadata": {},
   "outputs": [
    {
     "data": {
      "text/plain": [
       "<sklearn.metrics._plot.confusion_matrix.ConfusionMatrixDisplay at 0x7f59a8c5daf0>"
      ]
     },
     "execution_count": 24,
     "metadata": {},
     "output_type": "execute_result"
    },
    {
     "data": {
      "image/png": "[encoded data removed]",
      "text/plain": [
       "<Figure size 432x288 with 2 Axes>"
      ]
     },
     "metadata": {
      "needs_background": "light"
     },
     "output_type": "display_data"
    }
   ],
   "source": [
    "### from sklearn.metrics import confusion_matrix, ConfusionMatrixDisplay\n",
    "cm = confusion_matrix(bst.predict(y_train), y_label, labels=bst.classes_)\n",
    "disp = ConfusionMatrixDisplay(confusion_matrix=cm,\n",
    "                               display_labels=bst.classes_)\n",
    "disp.plot()"
   ]
  },
  {
   "cell_type": "code",
   "execution_count": 25,
   "id": "muslim-treasure",
   "metadata": {},
   "outputs": [
    {
     "data": {
      "text/plain": [
       "<sklearn.metrics._plot.confusion_matrix.ConfusionMatrixDisplay at 0x7f59a1dc47c0>"
      ]
     },
     "execution_count": 25,
     "metadata": {},
     "output_type": "execute_result"
    },
    {
     "data": {
      "image/png": "[encoded data removed]",
      "text/plain": [
       "<Figure size 432x288 with 2 Axes>"
      ]
     },
     "metadata": {
      "needs_background": "light"
     },
     "output_type": "display_data"
    }
   ],
   "source": [
    "from sklearn.metrics import confusion_matrix, ConfusionMatrixDisplay\n",
    "cm = confusion_matrix(bst.predict(X_train), X_label, labels=bst.classes_)\n",
    "disp = ConfusionMatrixDisplay(confusion_matrix=cm,\n",
    "                               display_labels=bst.classes_)\n",
    "disp.plot()"
   ]
  },
  {
   "cell_type": "code",
   "execution_count": null,
   "id": "failing-dubai",
   "metadata": {},
   "outputs": [],
   "source": []
  },
  {
   "cell_type": "code",
   "execution_count": null,
   "id": "correct-parallel",
   "metadata": {},
   "outputs": [],
   "source": []
  }
 ],
 "metadata": {
  "kernelspec": {
   "display_name": "Python 3",
   "language": "python",
   "name": "python3"
  },
  "language_info": {
   "codemirror_mode": {
    "name": "ipython",
    "version": 3
   },
   "file_extension": ".py",
   "mimetype": "text/x-python",
   "name": "python",
   "nbconvert_exporter": "python",
   "pygments_lexer": "ipython3",
   "version": "3.8.5"
  }
 },
 "nbformat": 4,
 "nbformat_minor": 5
}
